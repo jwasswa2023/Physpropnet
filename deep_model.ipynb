{
  "cells": [
    {
      "cell_type": "markdown",
      "metadata": {
        "id": "view-in-github",
        "colab_type": "text"
      },
      "source": [
        "<a href=\"https://colab.research.google.com/github/jwasswa2023/Physpropnet/blob/main/deep_model.ipynb\" target=\"_parent\"><img src=\"https://colab.research.google.com/assets/colab-badge.svg\" alt=\"Open In Colab\"/></a>"
      ]
    },
    {
      "cell_type": "markdown",
      "id": "4367bc6b",
      "metadata": {
        "id": "4367bc6b"
      },
      "source": [
        "Deep Model Script - DMPNN"
      ]
    },
    {
      "cell_type": "code",
      "execution_count": null,
      "id": "0be585d0",
      "metadata": {
        "id": "0be585d0",
        "outputId": "6391c5f9-e043-4057-a3dd-ac0a5beacaba"
      },
      "outputs": [
        {
          "name": "stderr",
          "output_type": "stream",
          "text": [
            "/home/ary2260/miniconda3/envs/prithvi-env/lib/python3.9/site-packages/deepchem/data/data_loader.py:172: FutureWarning: featurize() is deprecated and has been renamed to create_dataset().featurize() will be removed in DeepChem 3.0\n",
            "  warnings.warn(\n"
          ]
        }
      ],
      "source": [
        "import deepchem as dc\n",
        "import numpy as np\n",
        "from deepchem.models import DMPNNModel\n",
        "from deepchem.splits import RandomSplitter\n",
        "from deepchem.hyper import RandomHyperparamOpt\n",
        "\n",
        "# Load custom dataset from CSV\n",
        "csv_file = \"desalted_BioHC.csv\"\n",
        "tasks = [\"LogHalfLife\"]\n",
        "\n",
        "# Initialize the loader for graph-based models\n",
        "loader = dc.data.CSVLoader(tasks=tasks, feature_field=\"SMILES\", featurizer=dc.feat.DMPNNFeaturizer())\n",
        "dataset = loader.featurize(csv_file)\n",
        "\n",
        "# Split the train+val and test dataset\n",
        "splitter = RandomSplitter()\n",
        "train_val_dataset, test_dataset = splitter.train_test_split(dataset, frac_train=0.9)\n",
        "\n",
        "# Split the train and validation dataset\n",
        "train_dataset, valid_dataset = splitter.train_test_split(train_val_dataset, frac_train=8/9)\n",
        "\n",
        "# Define metric\n",
        "pearson_r2_score = dc.metrics.Metric(dc.metrics.pearson_r2_score)\n",
        "mae_error = dc.metrics.Metric(dc.metrics.mean_absolute_error)\n",
        "rms_score = dc.metrics.Metric(dc.metrics.rms_score)"
      ]
    },
    {
      "cell_type": "code",
      "execution_count": null,
      "id": "1ff638ba",
      "metadata": {
        "id": "1ff638ba",
        "outputId": "b64a5adc-6b12-466d-e661-befa7fa387e6"
      },
      "outputs": [
        {
          "data": {
            "text/plain": [
              "(120, 15, 15)"
            ]
          },
          "execution_count": 3,
          "metadata": {},
          "output_type": "execute_result"
        }
      ],
      "source": [
        "len(train_dataset), len(valid_dataset), len(test_dataset)"
      ]
    },
    {
      "cell_type": "markdown",
      "id": "34b1f40a",
      "metadata": {
        "id": "34b1f40a"
      },
      "source": [
        "K-Fold Cross-Validation"
      ]
    },
    {
      "cell_type": "code",
      "execution_count": null,
      "id": "680617ab",
      "metadata": {
        "id": "680617ab",
        "outputId": "85663e93-481d-4e03-bbbb-3ee740a531c9"
      },
      "outputs": [
        {
          "name": "stdout",
          "output_type": "stream",
          "text": [
            "\n",
            "Fold 1/5\n",
            "\n",
            "Fold 2/5\n",
            "\n",
            "Fold 3/5\n",
            "\n",
            "Fold 4/5\n",
            "\n",
            "Fold 5/5\n",
            "\n",
            "=== Cross-Validation Summary ===\n",
            "R²     : 0.7116 ± 0.1149\n",
            "RMSE   : 0.3936 ± 0.0850\n",
            "MAE    : 0.2976 ± 0.0390\n"
          ]
        }
      ],
      "source": [
        "num_folds = 5\n",
        "# KFold splits indices based on the number of samples in the dataset\n",
        "train_val_dataset_folds = splitter.k_fold_split(train_val_dataset, k=num_folds)\n",
        "\n",
        "# Collect metrics\n",
        "k_r2_scores = []\n",
        "k_rmse_scores = []\n",
        "k_mae_scores = []\n",
        "\n",
        "# Cross-validation loop\n",
        "for fold, (k_train_dataset, k_valid_dataset) in enumerate(train_val_dataset_folds):\n",
        "    print(f\"\\nFold {fold+1}/{num_folds}\")\n",
        "\n",
        "    # Re-instantiate model for each fold\n",
        "    model = DMPNNModel(n_tasks=len(tasks), mode='regression', learning_rate=1e-3, batch_size=64)\n",
        "\n",
        "    # Train model\n",
        "    model.fit(k_train_dataset, nb_epoch=100)\n",
        "\n",
        "    # Evaluate\n",
        "    scores = model.evaluate(k_valid_dataset, [pearson_r2_score, mae_error, rms_score])\n",
        "\n",
        "    k_r2_scores.append(scores['pearson_r2_score'])\n",
        "    k_rmse_scores.append(scores['rms_score'])\n",
        "    k_mae_scores.append(scores['mean_absolute_error'])\n",
        "\n",
        "# Report mean ± std for each metric\n",
        "print(\"\\n=== Cross-Validation Summary ===\")\n",
        "print(f\"R²     : {np.mean(k_r2_scores):.4f} ± {np.std(k_r2_scores):.4f}\")\n",
        "print(f\"RMSE   : {np.mean(k_rmse_scores):.4f} ± {np.std(k_rmse_scores):.4f}\")\n",
        "print(f\"MAE    : {np.mean(k_mae_scores):.4f} ± {np.std(k_mae_scores):.4f}\")"
      ]
    },
    {
      "cell_type": "markdown",
      "id": "22eae421",
      "metadata": {
        "id": "22eae421"
      },
      "source": [
        "Hyper-Parameter Tuning"
      ]
    },
    {
      "cell_type": "code",
      "execution_count": null,
      "id": "9b3822ca",
      "metadata": {
        "id": "9b3822ca",
        "outputId": "4d4d9820-c191-4a56-ca57-2dec3e092c37"
      },
      "outputs": [
        {
          "name": "stdout",
          "output_type": "stream",
          "text": [
            "Validation Set Metrics for best model\n",
            "{'pearson_r2_score': 0.8593848433030704, 'mean_absolute_error': 0.41409178224563614, 'rms_score': 0.47125810192796763}\n"
          ]
        }
      ],
      "source": [
        "# Define the model builder function for DMPNN\n",
        "def model_builder(model_dir, **model_params):\n",
        "    return DMPNNModel(\n",
        "        n_tasks=len(tasks),\n",
        "        mode='regression',\n",
        "        model_dir=model_dir,\n",
        "        **model_params\n",
        "    )\n",
        "\n",
        "# Define hyperparameter space for DMPNN\n",
        "param_dict = {\n",
        "    'learning_rate': [1e-4, 1e-3, 1e-2],\n",
        "    'batch_size': [32, 64, 128],\n",
        "    'global_features_size': [0],\n",
        "    'enc_hidden': [60, 150, 300],\n",
        "    'depth': [2, 3, 4],\n",
        "    'enc_dropout_p': [0.0, 0.2, 0.4],\n",
        "    'aggregation': ['mean'],\n",
        "    'aggregation_norm': [100],\n",
        "    'ffn_hidden': [60, 150, 300],\n",
        "    'ffn_layers': [2, 3],\n",
        "    'ffn_dropout_p': [0.0, 0.2, 0.4],\n",
        "    'ffn_dropout_at_input_no_act': [True, False],\n",
        "}\n",
        "\n",
        "# Set up and run random search\n",
        "search = RandomHyperparamOpt(model_builder=model_builder, max_iter=10) # change max_iter to 60 for full random search\n",
        "best_model, best_params, all_results = search.hyperparam_search(param_dict, train_dataset, valid_dataset, pearson_r2_score, nb_epoch=100, use_max=True, logdir=\"./random_search\")\n",
        "\n",
        "# Evaluate best model\n",
        "print(\"Validation Set Metrics for best model\")\n",
        "val_scores = best_model.evaluate(valid_dataset, [pearson_r2_score, mae_error, rms_score])\n",
        "print(val_scores)"
      ]
    },
    {
      "cell_type": "markdown",
      "id": "cc629839",
      "metadata": {
        "id": "cc629839"
      },
      "source": [
        "3 random seed models on best parameters"
      ]
    },
    {
      "cell_type": "code",
      "execution_count": null,
      "id": "396ebd98",
      "metadata": {
        "id": "396ebd98"
      },
      "outputs": [],
      "source": [
        "del best_params['model_dir']"
      ]
    },
    {
      "cell_type": "code",
      "execution_count": null,
      "id": "73e75829",
      "metadata": {
        "id": "73e75829",
        "outputId": "26c1d6d4-d618-477a-c80b-4445982e2deb"
      },
      "outputs": [
        {
          "name": "stdout",
          "output_type": "stream",
          "text": [
            "\n",
            "=== Test Results Summary ===\n",
            "R²     : 0.8259 ± 0.0154\n",
            "RMSE   : 0.4737 ± 0.0545\n",
            "MAE    : 0.3088 ± 0.0108\n"
          ]
        }
      ],
      "source": [
        "# Collect metrics\n",
        "r2_scores = []\n",
        "rmse_scores = []\n",
        "mae_scores = []\n",
        "\n",
        "for i in range(3):\n",
        "    model = DMPNNModel(\n",
        "            n_tasks=len(tasks),\n",
        "            mode='regression',\n",
        "            **best_params\n",
        "        )\n",
        "    model.fit(train_dataset, nb_epoch=100)\n",
        "    # Evaluate on test\n",
        "    scores = model.evaluate(test_dataset, [pearson_r2_score, mae_error, rms_score])\n",
        "\n",
        "    r2_scores.append(scores['pearson_r2_score'])\n",
        "    rmse_scores.append(scores['rms_score'])\n",
        "    mae_scores.append(scores['mean_absolute_error'])\n",
        "\n",
        "# Report mean ± std for each metric\n",
        "print(\"\\n=== Test Results Summary ===\")\n",
        "print(f\"R²     : {np.mean(r2_scores):.4f} ± {np.std(r2_scores):.4f}\")\n",
        "print(f\"RMSE   : {np.mean(rmse_scores):.4f} ± {np.std(rmse_scores):.4f}\")\n",
        "print(f\"MAE    : {np.mean(mae_scores):.4f} ± {np.std(mae_scores):.4f}\")"
      ]
    }
  ],
  "metadata": {
    "kernelspec": {
      "display_name": "prithvi-env",
      "language": "python",
      "name": "python3"
    },
    "language_info": {
      "codemirror_mode": {
        "name": "ipython",
        "version": 3
      },
      "file_extension": ".py",
      "mimetype": "text/x-python",
      "name": "python",
      "nbconvert_exporter": "python",
      "pygments_lexer": "ipython3",
      "version": "3.9.18"
    },
    "colab": {
      "provenance": [],
      "include_colab_link": true
    }
  },
  "nbformat": 4,
  "nbformat_minor": 5
}