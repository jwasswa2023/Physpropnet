{
  "cells": [
    {
      "cell_type": "markdown",
      "metadata": {
        "id": "view-in-github",
        "colab_type": "text"
      },
      "source": [
        "<a href=\"https://colab.research.google.com/github/jwasswa2023/Physpropnet/blob/main/new_shallow_model.ipynb\" target=\"_parent\"><img src=\"https://colab.research.google.com/assets/colab-badge.svg\" alt=\"Open In Colab\"/></a>"
      ]
    },
    {
      "cell_type": "markdown",
      "id": "4367bc6b",
      "metadata": {
        "id": "4367bc6b"
      },
      "source": [
        "Shallow Model Script - Random Forest Regressor"
      ]
    },
    {
      "cell_type": "code",
      "execution_count": null,
      "id": "0be585d0",
      "metadata": {
        "id": "0be585d0",
        "outputId": "70c77d04-21f6-4ed4-86f7-eb926db19022"
      },
      "outputs": [
        {
          "name": "stderr",
          "output_type": "stream",
          "text": [
            "WARNING:deepchem.feat.molecule_featurizers.rdkit_descriptors:No normalization for BCUT2D_MWHI. Feature removed!\n",
            "WARNING:deepchem.feat.molecule_featurizers.rdkit_descriptors:No normalization for BCUT2D_MWLOW. Feature removed!\n",
            "WARNING:deepchem.feat.molecule_featurizers.rdkit_descriptors:No normalization for BCUT2D_CHGHI. Feature removed!\n",
            "WARNING:deepchem.feat.molecule_featurizers.rdkit_descriptors:No normalization for BCUT2D_CHGLO. Feature removed!\n",
            "WARNING:deepchem.feat.molecule_featurizers.rdkit_descriptors:No normalization for BCUT2D_LOGPHI. Feature removed!\n",
            "WARNING:deepchem.feat.molecule_featurizers.rdkit_descriptors:No normalization for BCUT2D_LOGPLOW. Feature removed!\n",
            "WARNING:deepchem.feat.molecule_featurizers.rdkit_descriptors:No normalization for BCUT2D_MRHI. Feature removed!\n",
            "WARNING:deepchem.feat.molecule_featurizers.rdkit_descriptors:No normalization for BCUT2D_MRLOW. Feature removed!\n",
            "/home/ary2260/miniconda3/envs/prithvi-env/lib/python3.9/site-packages/deepchem/data/data_loader.py:172: FutureWarning: featurize() is deprecated and has been renamed to create_dataset().featurize() will be removed in DeepChem 3.0\n",
            "  warnings.warn(\n"
          ]
        }
      ],
      "source": [
        "import deepchem as dc\n",
        "import numpy as np\n",
        "from deepchem.splits import RandomSplitter\n",
        "from deepchem.models import SklearnModel\n",
        "from sklearn.ensemble import RandomForestRegressor\n",
        "from deepchem.hyper import RandomHyperparamOpt\n",
        "\n",
        "# Load custom dataset from CSV\n",
        "csv_file = \"desalted_BioHC.csv\"\n",
        "tasks = [\"LogHalfLife\"]\n",
        "\n",
        "# Initialize the loader for shallow model\n",
        "rdkit_featurizer = dc.feat.RDKitDescriptors(is_normalized=True)\n",
        "loader = dc.data.CSVLoader(tasks=tasks, feature_field=\"SMILES\", featurizer=rdkit_featurizer)\n",
        "dataset = loader.featurize(csv_file)\n",
        "\n",
        "# Split the train+val and test dataset\n",
        "splitter = RandomSplitter()\n",
        "train_val_dataset, test_dataset = splitter.train_test_split(dataset, frac_train=0.9)\n",
        "\n",
        "# Split the train and validation dataset\n",
        "train_dataset, valid_dataset = splitter.train_test_split(train_val_dataset, frac_train=8/9)\n",
        "\n",
        "# Define metric\n",
        "pearson_r2_score = dc.metrics.Metric(dc.metrics.pearson_r2_score)\n",
        "mae_error = dc.metrics.Metric(dc.metrics.mean_absolute_error)\n",
        "rms_score = dc.metrics.Metric(dc.metrics.rms_score)"
      ]
    },
    {
      "cell_type": "code",
      "execution_count": null,
      "id": "1ff638ba",
      "metadata": {
        "id": "1ff638ba",
        "outputId": "80aceb9c-38a4-4bf4-8dd1-e827a11abf37"
      },
      "outputs": [
        {
          "data": {
            "text/plain": [
              "(120, 15, 15)"
            ]
          },
          "execution_count": 14,
          "metadata": {},
          "output_type": "execute_result"
        }
      ],
      "source": [
        "len(train_dataset), len(valid_dataset), len(test_dataset)"
      ]
    },
    {
      "cell_type": "markdown",
      "id": "34b1f40a",
      "metadata": {
        "id": "34b1f40a"
      },
      "source": [
        "K-Fold Cross-Validation"
      ]
    },
    {
      "cell_type": "code",
      "execution_count": null,
      "id": "680617ab",
      "metadata": {
        "id": "680617ab",
        "outputId": "05a65690-3548-46c0-a3c6-e87d196f050c"
      },
      "outputs": [
        {
          "name": "stdout",
          "output_type": "stream",
          "text": [
            "\n",
            "Fold 1/5\n",
            "\n",
            "Fold 2/5\n",
            "\n",
            "Fold 3/5\n",
            "\n",
            "Fold 4/5\n",
            "\n",
            "Fold 5/5\n",
            "\n",
            "=== Cross-Validation Summary ===\n",
            "R²     : 0.8056 ± 0.0515\n",
            "RMSE   : 0.3177 ± 0.0482\n",
            "MAE    : 0.2381 ± 0.0452\n"
          ]
        }
      ],
      "source": [
        "num_folds = 5\n",
        "# KFold splits indices based on the number of samples in the dataset\n",
        "train_val_dataset_folds = splitter.k_fold_split(train_val_dataset, k=num_folds)\n",
        "\n",
        "# Collect metrics\n",
        "k_r2_scores = []\n",
        "k_rmse_scores = []\n",
        "k_mae_scores = []\n",
        "\n",
        "# Cross-validation loop\n",
        "for fold, (k_train_dataset, k_valid_dataset) in enumerate(train_val_dataset_folds):\n",
        "    print(f\"\\nFold {fold+1}/{num_folds}\")\n",
        "\n",
        "    # Re-instantiate model for each fold\n",
        "    model = SklearnModel(RandomForestRegressor())\n",
        "\n",
        "    # Train model\n",
        "    model.fit(k_train_dataset)\n",
        "\n",
        "    # Evaluate\n",
        "    scores = model.evaluate(k_valid_dataset, [pearson_r2_score, mae_error, rms_score])\n",
        "\n",
        "    k_r2_scores.append(scores['pearson_r2_score'])\n",
        "    k_rmse_scores.append(scores['rms_score'])\n",
        "    k_mae_scores.append(scores['mean_absolute_error'])\n",
        "\n",
        "# Report mean ± std for each metric\n",
        "print(\"\\n=== Cross-Validation Summary ===\")\n",
        "print(f\"R²     : {np.mean(k_r2_scores):.4f} ± {np.std(k_r2_scores):.4f}\")\n",
        "print(f\"RMSE   : {np.mean(k_rmse_scores):.4f} ± {np.std(k_rmse_scores):.4f}\")\n",
        "print(f\"MAE    : {np.mean(k_mae_scores):.4f} ± {np.std(k_mae_scores):.4f}\")"
      ]
    },
    {
      "cell_type": "markdown",
      "id": "22eae421",
      "metadata": {
        "id": "22eae421"
      },
      "source": [
        "Hyper-Parameter Tuning"
      ]
    },
    {
      "cell_type": "code",
      "execution_count": null,
      "id": "9b3822ca",
      "metadata": {
        "id": "9b3822ca",
        "outputId": "844671d3-bcea-4d41-f359-57d74a194d5c"
      },
      "outputs": [
        {
          "name": "stdout",
          "output_type": "stream",
          "text": [
            "Validation Set Metrics for best model\n",
            "{'pearson_r2_score': 0.8451389335906981, 'mean_absolute_error': 0.24253312071292907, 'rms_score': 0.3208967668414655}\n"
          ]
        }
      ],
      "source": [
        "# Define the model builder function for sklearn models\n",
        "def sklearn_model(model):\n",
        "    def initialize_sklearn_model(model_dir: str = None, **kwargs):\n",
        "        if model_dir is None:\n",
        "            return SklearnModel(model(**kwargs))\n",
        "        else:\n",
        "            return SklearnModel(model(**kwargs), model_dir=model_dir)\n",
        "\n",
        "    return initialize_sklearn_model\n",
        "\n",
        "\n",
        "# Define hyperparameter space for RandomForestRegressor\n",
        "param_dict = {\n",
        "    \"n_estimators\": [50, 100, 150, 200, 300],\n",
        "    \"max_depth\": [None, 5, 10, 20, 50],\n",
        "    \"min_samples_split\": [2, 5, 10],\n",
        "    \"min_samples_leaf\": [1, 2, 4],\n",
        "    \"bootstrap\": [True, False]\n",
        "}\n",
        "\n",
        "# Set up and run random search\n",
        "search = RandomHyperparamOpt(model_builder=sklearn_model(RandomForestRegressor), max_iter=60)\n",
        "best_model, best_params, all_results = search.hyperparam_search(param_dict, train_dataset, valid_dataset, pearson_r2_score, use_max=True, logdir=\"./random_search_shallow\")\n",
        "\n",
        "# Evaluate best model\n",
        "print(\"Validation Set Metrics for best model\")\n",
        "val_scores = best_model.evaluate(valid_dataset, [pearson_r2_score, mae_error, rms_score])\n",
        "print(val_scores)"
      ]
    },
    {
      "cell_type": "markdown",
      "id": "cc629839",
      "metadata": {
        "id": "cc629839"
      },
      "source": [
        "3 random seed models on best parameters"
      ]
    },
    {
      "cell_type": "code",
      "execution_count": null,
      "id": "82099ad3",
      "metadata": {
        "id": "82099ad3"
      },
      "outputs": [],
      "source": [
        "del best_params['model_dir']"
      ]
    },
    {
      "cell_type": "code",
      "execution_count": null,
      "id": "73e75829",
      "metadata": {
        "id": "73e75829",
        "outputId": "f791d18a-f8f0-43a1-8e2b-be09f7fb2840"
      },
      "outputs": [
        {
          "name": "stdout",
          "output_type": "stream",
          "text": [
            "\n",
            "=== Test Results Summary ===\n",
            "R²     : 0.8614 ± 0.0029\n",
            "RMSE   : 0.3242 ± 0.0038\n",
            "MAE    : 0.2507 ± 0.0032\n"
          ]
        }
      ],
      "source": [
        "# Collect metrics\n",
        "r2_scores = []\n",
        "rmse_scores = []\n",
        "mae_scores = []\n",
        "\n",
        "for i in range(3):\n",
        "    model = SklearnModel(RandomForestRegressor(**best_params))\n",
        "    model.fit(train_dataset)\n",
        "    # Evaluate on test\n",
        "    scores = model.evaluate(test_dataset, [pearson_r2_score, mae_error, rms_score])\n",
        "\n",
        "    r2_scores.append(scores['pearson_r2_score'])\n",
        "    rmse_scores.append(scores['rms_score'])\n",
        "    mae_scores.append(scores['mean_absolute_error'])\n",
        "\n",
        "# Report mean ± std for each metric\n",
        "print(\"\\n=== Test Results Summary ===\")\n",
        "print(f\"R²     : {np.mean(r2_scores):.4f} ± {np.std(r2_scores):.4f}\")\n",
        "print(f\"RMSE   : {np.mean(rmse_scores):.4f} ± {np.std(rmse_scores):.4f}\")\n",
        "print(f\"MAE    : {np.mean(mae_scores):.4f} ± {np.std(mae_scores):.4f}\")"
      ]
    }
  ],
  "metadata": {
    "kernelspec": {
      "display_name": "prithvi-env",
      "language": "python",
      "name": "python3"
    },
    "language_info": {
      "codemirror_mode": {
        "name": "ipython",
        "version": 3
      },
      "file_extension": ".py",
      "mimetype": "text/x-python",
      "name": "python",
      "nbconvert_exporter": "python",
      "pygments_lexer": "ipython3",
      "version": "3.9.18"
    },
    "colab": {
      "provenance": [],
      "include_colab_link": true
    }
  },
  "nbformat": 4,
  "nbformat_minor": 5
}