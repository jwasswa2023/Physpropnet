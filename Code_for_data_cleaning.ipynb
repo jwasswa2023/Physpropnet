{
  "nbformat": 4,
  "nbformat_minor": 0,
  "metadata": {
    "colab": {
      "provenance": [],
      "authorship_tag": "ABX9TyM3Qht8IszSLu4tn/zpSWxC",
      "include_colab_link": true
    },
    "kernelspec": {
      "name": "python3",
      "display_name": "Python 3"
    },
    "language_info": {
      "name": "python"
    }
  },
  "cells": [
    {
      "cell_type": "markdown",
      "metadata": {
        "id": "view-in-github",
        "colab_type": "text"
      },
      "source": [
        "<a href=\"https://colab.research.google.com/github/jwasswa2023/Physpropnet/blob/main/Code_for_data_cleaning.ipynb\" target=\"_parent\"><img src=\"https://colab.research.google.com/assets/colab-badge.svg\" alt=\"Open In Colab\"/></a>"
      ]
    },
    {
      "cell_type": "code",
      "execution_count": null,
      "metadata": {
        "id": "FFonujp1WJ_B"
      },
      "outputs": [],
      "source": []
    },
    {
      "cell_type": "code",
      "source": [
        "# clean & install (run, then restart runtime)\n",
        "!pip uninstall -y dgl torch torchvision torchaudio torchdata\n",
        "!pip install -U pip setuptools wheel\n",
        "\n",
        "# Core (CPU wheels)\n",
        "!pip install torch==2.2.1 torchvision==0.17.1 torchaudio==2.2.1 --index-url https://download.pytorch.org/whl/cpu\n",
        "!pip install torchdata==0.7.1\n",
        "\n",
        "# DGL (works with Torch 2.2.x)\n",
        "!pip install dgl==2.1.0   # if this complains, try: pip install dgl==2.2.1\n",
        "\n",
        "# Your libs\n",
        "!pip install -U deepchem rdkit scikit-learn"
      ],
      "metadata": {
        "id": "EfzbyoukWKhZ"
      },
      "execution_count": null,
      "outputs": []
    },
    {
      "cell_type": "code",
      "source": [
        "import pandas as pd\n",
        "from rdkit import Chem\n",
        "from rdkit.Chem import SaltRemover\n",
        "import numpy\n",
        "import deepchem as dc\n",
        "\n",
        "# Function to check if a SMILES string is valid\n",
        "def is_valid_smiles(smiles):\n",
        "    mol = Chem.MolFromSmiles(smiles)\n",
        "    return mol is not None\n",
        "\n",
        "# Function to remove salts\n",
        "def remove_salts(smiles):\n",
        "    mol = Chem.MolFromSmiles(smiles)\n",
        "    if mol is None:\n",
        "        return None  # Return None if the molecule is invalid\n",
        "    remover = SaltRemover.SaltRemover()\n",
        "    clean_mol = remover.StripMol(mol)\n",
        "    return Chem.MolToSmiles(clean_mol)\n",
        "\n",
        "# Remove invalid SMILES\n",
        "df3['is_valid'] = df3['SMILES'].apply(is_valid_smiles)\n",
        "df3 = df3[df3['is_valid']]\n",
        "\n",
        "# Remove salts and clean SMILES\n",
        "df3['clean_SMILES'] = df3['SMILES'].apply(remove_salts)\n",
        "\n",
        "# Drop temporary columns\n",
        "df3 = df3.drop(columns=['is_valid'])\n",
        "\n",
        "# Remove rows where clean_SMILES is None\n",
        "df3 = df3.dropna(subset=['clean_SMILES'])\n",
        "\n",
        "print(df3.head())"
      ],
      "metadata": {
        "id": "JbMNe5xAWKfD"
      },
      "execution_count": null,
      "outputs": []
    }
  ]
}