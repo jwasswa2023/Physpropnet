{
  "nbformat": 4,
  "nbformat_minor": 0,
  "metadata": {
    "colab": {
      "provenance": [],
      "authorship_tag": "ABX9TyPIk8WFh6mDJ7AFqQpAAevV",
      "include_colab_link": true
    },
    "kernelspec": {
      "name": "python3",
      "display_name": "Python 3"
    },
    "language_info": {
      "name": "python"
    }
  },
  "cells": [
    {
      "cell_type": "markdown",
      "metadata": {
        "id": "view-in-github",
        "colab_type": "text"
      },
      "source": [
        "<a href=\"https://colab.research.google.com/github/jwasswa2023/Physpropnet/blob/main/Data_cleaning.ipynb\" target=\"_parent\"><img src=\"https://colab.research.google.com/assets/colab-badge.svg\" alt=\"Open In Colab\"/></a>"
      ]
    },
    {
      "cell_type": "code",
      "execution_count": null,
      "metadata": {
        "id": "NTBHMPhJNFmN"
      },
      "outputs": [],
      "source": [
        "import pandas as pd\n",
        "from rdkit import Chem\n",
        "from rdkit.Chem import Descriptors\n",
        "import math\n",
        "import swifter  # for efficient parallel apply\n",
        "\n",
        "# Get all descriptor functions from RDKit\n",
        "all_descriptors = {name: func for name, func in Descriptors.descList}\n",
        "\n",
        "def check_bad_salt(smiles):\n",
        "    try:\n",
        "        mol = Chem.MolFromSmiles(smiles)\n",
        "        if mol is None:\n",
        "            raise ValueError(f\"Invalid SMILES: {smiles}\")\n",
        "    except Exception:\n",
        "        print(f\"Ignored SMILES: {smiles}\")\n",
        "        return False\n",
        "\n",
        "    try:\n",
        "        # Use MaxAbsPartialCharge as a proxy check\n",
        "        feat = all_descriptors['MaxAbsPartialCharge'](mol)\n",
        "        if math.isnan(feat):\n",
        "            print(f\"Bad salt SMILES: {smiles}\")\n",
        "            return True\n",
        "        return False\n",
        "    except Exception:\n",
        "        print(f\"Descriptor failed for: {smiles}\")\n",
        "        return False\n",
        "\n",
        "def process_csv(file_path, output_path=None):\n",
        "    df = pd.read_csv(file_path)\n",
        "\n",
        "    if 'SMILES' not in df.columns:\n",
        "        raise ValueError(\"CSV must contain a column named 'SMILES'\")\n",
        "\n",
        "    df['bad_salts'] = df['SMILES'].swifter.apply(lambda x: check_bad_salt(str(x)))\n",
        "\n",
        "    if output_path:\n",
        "        df.to_csv(output_path, index=False)\n",
        "        print(f\"Processed file saved to: {output_path}\")\n",
        "\n",
        "    return df\n",
        "\n",
        "# Example usage:\n",
        "df = process_csv(\"data.csv\", \"cleaned_data.csv\")\n",
        "\n"
      ]
    },
    {
      "cell_type": "markdown",
      "source": [
        "Some Datasets can have bad featurized smiles, here is the code that can help"
      ],
      "metadata": {
        "id": "yzvEFzTUNIPg"
      }
    },
    {
      "cell_type": "code",
      "source": [],
      "metadata": {
        "id": "K_Uzl_39NPw4"
      },
      "execution_count": null,
      "outputs": []
    },
    {
      "cell_type": "code",
      "source": [
        "import pandas as pd\n",
        "import numpy as np\n",
        "import deepchem as dc\n",
        "\n",
        "# Load your dataset\n",
        "df = pd.read_csv(\"/content/desalted_Kh.csv\")\n",
        "smiles_list = df[\"SMILES\"].tolist()\n",
        "labels = df[\"LogHL\"].values\n",
        "\n",
        "# Initialize featurizer\n",
        "featurizer = dc.feat.MolGraphConvFeaturizer(use_edges=True)\n",
        "\n",
        "# Featurize and check for validity\n",
        "clean_smiles = []\n",
        "clean_labels = []\n",
        "clean_features = []\n",
        "\n",
        "for smile, label in zip(smiles_list, labels):\n",
        "    feature = featurizer.featurize([smile])[0]\n",
        "\n",
        "    # Check if featurization succeeded and has multiple nodes\n",
        "    if feature is not None and hasattr(feature, 'node_features') and feature.node_features.shape[0] > 1:\n",
        "        clean_smiles.append(smile)\n",
        "        clean_labels.append(label)\n",
        "        clean_features.append(feature)\n",
        "\n",
        "print(f\" Cleaned dataset prepared. Retained {len(clean_smiles)} out of {len(smiles_list)} molecules.\")\n",
        "\n",
        "# Convert to arrays for downstream compatibility\n",
        "clean_labels = np.array(clean_labels)\n",
        "\n",
        "# Optionally, create a cleaned dataframe for inspection or saving\n",
        "clean_df = pd.DataFrame({\n",
        "    \"SMILES\": clean_smiles,\n",
        "    \"LogHL\": clean_labels\n",
        "})\n",
        "\n",
        "# Save cleaned dataset if needed\n",
        "clean_df.to_csv(\"/content/cleaned_desalted_Kh.csv\", index=False)\n",
        "print(\"Cleaned dataset saved to cleaned_desalted_Kh.csv\")\n",
        "\n",
        "# Now you can proceed to use clean_features, clean_labels, and clean_smiles in your GraphSAGE pipeline\n"
      ],
      "metadata": {
        "colab": {
          "base_uri": "https://localhost:8080/"
        },
        "outputId": "6794d57f-71f9-4797-8a57-5fe8ae319b5c",
        "id": "pqtmOBxzQ5hh"
      },
      "execution_count": null,
      "outputs": [
        {
          "output_type": "stream",
          "name": "stderr",
          "text": [
            "WARNING:deepchem.feat.base_classes:Failed to featurize datapoint 0, C. Appending empty array\n",
            "WARNING:deepchem.feat.base_classes:Exception message: More than one atom should be present in the molecule for this featurizer to work.\n"
          ]
        },
        {
          "output_type": "stream",
          "name": "stdout",
          "text": [
            "✅ Cleaned dataset prepared. Retained 1661 out of 1662 molecules.\n",
            "💾 Cleaned dataset saved to cleaned_desalted_Kh.csv\n"
          ]
        }
      ]
    },
    {
      "cell_type": "code",
      "source": [],
      "metadata": {
        "id": "Hv5n-4KQNH2H"
      },
      "execution_count": null,
      "outputs": []
    }
  ]
}